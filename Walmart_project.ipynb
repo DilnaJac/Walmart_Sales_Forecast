{
 "cells": [
  {
   "cell_type": "code",
   "execution_count": 1,
   "metadata": {
    "id": "SITybzOYtBX7"
   },
   "outputs": [],
   "source": [
    "import pandas as pd\n",
    "import numpy as np\n",
    "import matplotlib.pyplot as plt"
   ]
  },
  {
   "cell_type": "code",
   "execution_count": 2,
   "metadata": {
    "colab": {
     "base_uri": "https://localhost:8080/"
    },
    "id": "HUeR3fKJstvP",
    "outputId": "4feb4184-f191-4aff-ac5b-467105d84153"
   },
   "outputs": [
    {
     "name": "stdout",
     "output_type": "stream",
     "text": [
      "Enter the store id:21\n"
     ]
    }
   ],
   "source": [
    "data1 = pd.read_csv(r\"E:\\Projects\\Walmart Project\\Walmart DataSet.csv\")\n",
    "data1.set_index('Date', inplace=True)\n",
    "# There are about 45 different stores in this dataset. Lets select any store id from 1-45\n",
    "a= int(input(\"Enter the store id:\"))\n",
    "store = data1[data1.Store == a]\n",
    "sales = pd.DataFrame(store.Weekly_Sales.groupby(store.index).sum())\n",
    "sales.dtypes"
   ]
  },
  {
   "cell_type": "code",
   "execution_count": 3,
   "metadata": {
    "colab": {
     "base_uri": "https://localhost:8080/",
     "height": 708
    },
    "id": "GrMpTY4FwLzf",
    "outputId": "21faa0b7-6a1a-4bca-cb68-4ff399561e9b"
   },
   "outputs": [],
   "source": [
    "sales.head(20)"
   ]
  },
  {
   "cell_type": "code",
   "execution_count": 4,
   "metadata": {
    "id": "KBclaMJotana"
   },
   "outputs": [],
   "source": [
    "#remove date from index to change its dtype because it clearly isnt acceptable.\n",
    "sales.reset_index(inplace = True)\n",
    "#converting 'date' column to a datetime type\n",
    "sales['Date'] = pd.to_datetime(sales['Date'])\n",
    "# resetting date back to the index\n",
    "sales.set_index('Date',inplace = True)"
   ]
  },
  {
   "cell_type": "code",
   "execution_count": 5,
   "metadata": {
    "colab": {
     "base_uri": "https://localhost:8080/",
     "height": 424
    },
    "id": "0WZrI5JWtJ0E",
    "outputId": "a54ad0c2-3918-4831-a2b5-b4d9b71b1f8c"
   },
   "outputs": [],
   "source": [
    "sales.Weekly_Sales.plot(figsize=(10,6), title= 'Weekly Sales of a Store', fontsize=14, color = 'blue')\n",
    "plt.show()"
   ]
  },
  {
   "cell_type": "code",
   "execution_count": 6,
   "metadata": {
    "colab": {
     "base_uri": "https://localhost:8080/",
     "height": 664
    },
    "id": "LBii-V7nuM47",
    "outputId": "fa60728d-c5ce-4ff4-a3f2-cb8cd7fdfef7"
   },
   "outputs": [],
   "source": [
    "from statsmodels.tsa.seasonal import seasonal_decompose\n",
    "\n",
    "decomposition = seasonal_decompose(sales.Weekly_Sales, period=12)  \n",
    "fig = plt.figure()  \n",
    "fig = decomposition.plot()  \n",
    "fig.set_size_inches(12, 10)\n",
    "plt.show()"
   ]
  },
  {
   "cell_type": "code",
   "execution_count": 7,
   "metadata": {
    "id": "VRyum2d_6Bne"
   },
   "outputs": [],
   "source": [
    "#lets compare the 2012 data of two stores\n",
    "# Lets take store 5 data for analysis\n",
    "store5 = data1[data1.Store == 5]\n",
    "# there are about 45 different stores in this dataset.\n",
    "\n",
    "sales5 = pd.DataFrame(store5.Weekly_Sales.groupby(store5.index).sum())\n",
    "sales5.dtypes\n",
    "# Grouped weekly sales by store 6\n",
    "\n",
    "#remove date from index to change its dtype because it clearly isnt acceptable.\n",
    "sales5.reset_index(inplace = True)\n",
    "\n",
    "#converting 'date' column to a datetime type\n",
    "sales5['Date'] = pd.to_datetime(sales5['Date'])\n",
    "# resetting date back to the index\n",
    "sales5.set_index('Date',inplace = True)"
   ]
  },
  {
   "cell_type": "code",
   "execution_count": 8,
   "metadata": {
    "id": "Xi3gb8k0TYCz"
   },
   "outputs": [],
   "source": [
    "y1=sales.Weekly_Sales\n",
    "y2=sales5.Weekly_Sales"
   ]
  },
  {
   "cell_type": "code",
   "execution_count": 9,
   "metadata": {
    "colab": {
     "base_uri": "https://localhost:8080/",
     "height": 418
    },
    "id": "wfkZFmSY7VHQ",
    "outputId": "425aefa7-a40a-4869-9aac-74921b2171cf"
   },
   "outputs": [],
   "source": [
    "y1['2012'].plot(figsize=(15, 6),legend=True, color = 'chocolate')\n",
    "y2['2012'].plot(figsize=(15, 6), legend=True, color = 'turquoise')\n",
    "plt.ylabel('Weekly Sales')\n",
    "plt.title('Store4 vs Store5 on 2012', fontsize = '16')\n",
    "plt.show()"
   ]
  },
  {
   "cell_type": "code",
   "execution_count": 10,
   "metadata": {
    "id": "Tz9v5YAZ-Y6C"
   },
   "outputs": [],
   "source": [
    "# Clearly we can see the irregularities "
   ]
  },
  {
   "cell_type": "code",
   "execution_count": 11,
   "metadata": {
    "id": "IhqgEwA2uPAh"
   },
   "outputs": [],
   "source": [
    "# Define the p, d and q parameters to take any value between 0 and 2\n",
    "p = d = q = range(0, 5)\n",
    "import itertools\n",
    "# Generate all different combinations of p, d and q triplets\n",
    "pdq = list(itertools.product(p, d, q))\n",
    "\n",
    "# Generate all different combinations of seasonal p, d and q triplets\n",
    "seasonal_pdq = [(x[0], x[1], x[2], 52) for x in list(itertools.product(p, d, q))]"
   ]
  },
  {
   "cell_type": "code",
   "execution_count": 12,
   "metadata": {
    "colab": {
     "base_uri": "https://localhost:8080/"
    },
    "id": "0ubaVn2Mux6H",
    "outputId": "bb69dd2a-6a53-4ee8-a7b9-8eb40a91cd76"
   },
   "outputs": [],
   "source": [
    "import statsmodels.api as sm\n",
    "\n",
    "mod = sm.tsa.statespace.SARIMAX(y1,\n",
    "                                order=(4, 4, 3),\n",
    "                                seasonal_order=(1, 1, 0, 52),   #enforce_stationarity=False,\n",
    "                                enforce_invertibility=False)\n",
    "\n",
    "results = mod.fit()\n",
    "\n",
    "print(results.summary().tables[1])"
   ]
  },
  {
   "cell_type": "code",
   "execution_count": 13,
   "metadata": {
    "colab": {
     "base_uri": "https://localhost:8080/",
     "height": 730
    },
    "id": "TyZZIXmlux8O",
    "outputId": "1e9dbfdb-50f3-4d00-9fc0-03a8526aa97a"
   },
   "outputs": [],
   "source": [
    "plt.style.use('seaborn-pastel')\n",
    "results.plot_diagnostics(figsize=(15, 12))\n",
    "plt.show()"
   ]
  },
  {
   "cell_type": "code",
   "execution_count": 14,
   "metadata": {
    "colab": {
     "base_uri": "https://localhost:8080/"
    },
    "id": "H8XY4BX7ux_C",
    "outputId": "1f0a2602-79e0-4367-ff6e-e8356afaf793"
   },
   "outputs": [],
   "source": [
    "pred = results.get_prediction(start=pd.to_datetime('2012-07-27'), dynamic=False)\n",
    "pred_ci = pred.conf_int()"
   ]
  },
  {
   "cell_type": "code",
   "execution_count": 15,
   "metadata": {
    "colab": {
     "base_uri": "https://localhost:8080/",
     "height": 302
    },
    "id": "KAcZR7pRuyB3",
    "outputId": "0203db4e-b455-4368-980c-8204da865072"
   },
   "outputs": [],
   "source": [
    "ax = y1['2010':].plot(label='observed')\n",
    "pred.predicted_mean.plot(ax=ax, label='One-step ahead Forecast', alpha=.7)\n",
    "\n",
    "ax.fill_between(pred_ci.index,\n",
    "                pred_ci.iloc[:, 0],\n",
    "                pred_ci.iloc[:, 1], color='k', alpha=.2)\n",
    "\n",
    "ax.set_xlabel('Time Period')\n",
    "ax.set_ylabel('Sales')\n",
    "plt.legend()\n",
    "\n",
    "plt.show()"
   ]
  },
  {
   "cell_type": "code",
   "execution_count": 16,
   "metadata": {
    "colab": {
     "base_uri": "https://localhost:8080/"
    },
    "id": "UnuArqyguyEw",
    "outputId": "17ab04e6-fc87-4dda-f981-8ed0ea2bccdf"
   },
   "outputs": [],
   "source": [
    "y_forecasted = pred.predicted_mean\n",
    "y_truth = y1['2012-7-27':]\n",
    "\n",
    "# Compute the mean square error\n",
    "mse = ((y_forecasted - y_truth) ** 2).mean()\n",
    "print('The Mean Squared Error of our forecasts is {}'.format(round(mse, 2)))"
   ]
  },
  {
   "cell_type": "code",
   "execution_count": 17,
   "metadata": {
    "colab": {
     "base_uri": "https://localhost:8080/"
    },
    "id": "HNeKtpcxuyHk",
    "outputId": "cca5b5a5-2d91-4a5a-c6d3-f5ca7d031f44"
   },
   "outputs": [],
   "source": [
    "pred_dynamic = results.get_prediction(start=pd.to_datetime('2012-7-27'), dynamic=True, full_results=True)\n",
    "pred_dynamic_ci = pred_dynamic.conf_int()"
   ]
  },
  {
   "cell_type": "code",
   "execution_count": 18,
   "metadata": {
    "colab": {
     "base_uri": "https://localhost:8080/",
     "height": 519
    },
    "id": "E0WGkLB6uyKK",
    "outputId": "3874e7c7-6950-45a0-a597-9ebd026116e8"
   },
   "outputs": [],
   "source": [
    "\n",
    "\n",
    "ax = y1['2010':].plot(label='observed', figsize=(12, 8))\n",
    "pred_dynamic.predicted_mean.plot(label='Dynamic Forecast', ax=ax)\n",
    "\n",
    "ax.fill_between(pred_dynamic_ci.index,\n",
    "                pred_dynamic_ci.iloc[:, 0],\n",
    "                pred_dynamic_ci.iloc[:, 1], color='k', alpha=.25)\n",
    "\n",
    "ax.fill_betweenx(ax.get_ylim(), pd.to_datetime('2012-7-26'), y1.index[-1],\n",
    "                 alpha=.1, zorder=-1)\n",
    "\n",
    "ax.set_xlabel('Time Period')\n",
    "ax.set_ylabel('Sales')\n",
    "\n",
    "plt.legend()\n",
    "plt.show()\n",
    "\n"
   ]
  },
  {
   "cell_type": "code",
   "execution_count": 19,
   "metadata": {
    "colab": {
     "base_uri": "https://localhost:8080/"
    },
    "id": "v232D2aWuyMy",
    "outputId": "1114caa5-fdd2-4187-d20c-094e15237181"
   },
   "outputs": [],
   "source": [
    "import numpy as np\n",
    "# Extract the predicted and true values of our time series\n",
    "y_forecasted = pred_dynamic.predicted_mean\n",
    "print(y_forecasted)"
   ]
  },
  {
   "cell_type": "code",
   "execution_count": 20,
   "metadata": {
    "colab": {
     "base_uri": "https://localhost:8080/"
    },
    "id": "DJ69W1Djyruo",
    "outputId": "fd9e4cf1-4967-4f23-9a7e-8f82d53b1757"
   },
   "outputs": [],
   "source": [
    "y_truth = y1['2012-7-27':]\n",
    "\n",
    "print(y_truth)"
   ]
  },
  {
   "cell_type": "code",
   "execution_count": 21,
   "metadata": {
    "colab": {
     "base_uri": "https://localhost:8080/"
    },
    "id": "6VaB9pWSzlSf",
    "outputId": "7f951e3f-48ea-4f1d-f83e-4aa31629083e"
   },
   "outputs": [],
   "source": [
    "# Compute the Root mean square error\n",
    "rmse = np.sqrt(((y_forecasted - y_truth) ** 2).mean())\n",
    "print('The Root Mean Squared Error of our forecasts is {}'.format(round(rmse, 2)))"
   ]
  },
  {
   "cell_type": "code",
   "execution_count": 22,
   "metadata": {
    "colab": {
     "base_uri": "https://localhost:8080/"
    },
    "id": "uzLJ-CYGuyPX",
    "outputId": "406aa225-37e4-4e8b-a6d2-dcf2ad9dc454"
   },
   "outputs": [],
   "source": [
    "Residual= y_forecasted - y_truth\n",
    "print(\"Residual for Store1\",np.abs(Residual).sum())"
   ]
  },
  {
   "cell_type": "code",
   "execution_count": 23,
   "metadata": {
    "colab": {
     "base_uri": "https://localhost:8080/"
    },
    "id": "vIcfDNunuySU",
    "outputId": "ec119ca7-07b2-4c3a-fafd-c6dc584d2950"
   },
   "outputs": [],
   "source": [
    "# Get forecast 12 weeks ahead in future\n",
    "pred_uc = results.get_forecast(steps=12)\n",
    "\n",
    "print(pred_uc)"
   ]
  },
  {
   "cell_type": "code",
   "execution_count": 24,
   "metadata": {
    "id": "O_iuM7oCzpdM"
   },
   "outputs": [],
   "source": [
    "# Get confidence intervals of forecasts\n",
    "pred_ci = pred_uc.conf_int()"
   ]
  },
  {
   "cell_type": "code",
   "execution_count": 25,
   "metadata": {
    "colab": {
     "base_uri": "https://localhost:8080/",
     "height": 519
    },
    "id": "97fcHJ_duyV_",
    "outputId": "8103f4d6-0d95-4b86-c6cd-cc81e6775712"
   },
   "outputs": [],
   "source": [
    "\n",
    "\n",
    "ax = y1.plot(label='observed', figsize=(12, 8))\n",
    "pred_uc.predicted_mean.plot(ax=ax, label='Forecast')\n",
    "ax.fill_between(pred_ci.index,\n",
    "                pred_ci.iloc[:, 0],\n",
    "                pred_ci.iloc[:, 1], color='k', alpha=.25)\n",
    "ax.set_xlabel('Time Period')\n",
    "ax.set_ylabel('Sales')\n",
    "\n",
    "plt.legend()\n",
    "plt.show()\n",
    "\n"
   ]
  },
  {
   "cell_type": "code",
   "execution_count": null,
   "metadata": {},
   "outputs": [],
   "source": []
  },
  {
   "cell_type": "code",
   "execution_count": null,
   "metadata": {},
   "outputs": [],
   "source": []
  }
 ],
 "metadata": {
  "colab": {
   "name": "walmart(letsee).ipynb",
   "provenance": []
  },
  "kernelspec": {
   "display_name": "Python 3 (ipykernel)",
   "language": "python",
   "name": "python3"
  },
  "language_info": {
   "codemirror_mode": {
    "name": "ipython",
    "version": 3
   },
   "file_extension": ".py",
   "mimetype": "text/x-python",
   "name": "python",
   "nbconvert_exporter": "python",
   "pygments_lexer": "ipython3",
   "version": "3.11.3"
  }
 },
 "nbformat": 4,
 "nbformat_minor": 1
}
